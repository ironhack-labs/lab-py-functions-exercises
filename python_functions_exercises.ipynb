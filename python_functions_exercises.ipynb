{
 "cells": [
  {
   "cell_type": "markdown",
   "metadata": {},
   "source": [
    "# LAB | Python Functions Exercises\n",
    "\n",
    "These exercises will help you practice defining functions in Python while empthising your understanding of various programming concepts."
   ]
  },
  {
   "cell_type": "markdown",
   "metadata": {},
   "source": [
    "\n",
    "### Exercise 1: Find Maximum of Three Numbers\n",
    "Create a function that takes three numbers as arguments and returns the maximum value among them.\n"
   ]
  },
  {
   "cell_type": "code",
   "execution_count": 3,
   "metadata": {},
   "outputs": [
    {
     "name": "stdout",
     "output_type": "stream",
     "text": [
      "3000.0555\n"
     ]
    }
   ],
   "source": [
    "# Your code here\n",
    "def find_max_of_three(num1, num2, num3):\n",
    "    if num1 > num2 and num1 > num3:\n",
    "        return num1\n",
    "    elif num2 > num1 and num2 > num3:\n",
    "        return num2\n",
    "    else:\n",
    "        return num3\n",
    "    \n",
    "print(find_max_of_three(-1, 20.5, 3000.0555)) "
   ]
  },
  {
   "cell_type": "markdown",
   "metadata": {},
   "source": [
    "\n",
    "### Exercise 2: Sum of List Elements\n",
    "Write a function that calculates the total sum of all numbers in a given list.\n"
   ]
  },
  {
   "cell_type": "markdown",
   "metadata": {},
   "source": [
    "\n",
    "*Example Input*: `[8, 2, 3, 0, 7]`\n",
    "\n",
    "*Expected Output*: `20`\n"
   ]
  },
  {
   "cell_type": "code",
   "execution_count": 5,
   "metadata": {},
   "outputs": [
    {
     "name": "stdout",
     "output_type": "stream",
     "text": [
      "55\n"
     ]
    }
   ],
   "source": [
    "# Your code here\n",
    "def calc_sum (numbers):\n",
    "    '''This function takes a list of numbers as input and returns the sum of the numbers\n",
    "    \n",
    "    '''\n",
    "    sum = 0\n",
    "    for number in numbers:\n",
    "        sum += number\n",
    "    return sum\n",
    "\n",
    "print(calc_sum([1, 2, 3, 4, 5, 6, 7, 8, 9, 10]))"
   ]
  },
  {
   "cell_type": "markdown",
   "metadata": {},
   "source": [
    "\n",
    "### Exercise 3: Product of List Elements\n",
    "Define a function that multiplies all the integers in a list and returns the result.\n"
   ]
  },
  {
   "cell_type": "markdown",
   "metadata": {},
   "source": [
    "\n",
    "*Example Input*: `[8, 2, 3, -1, 7]`\n",
    "\n",
    "*Expected Output*: `-336`\n",
    "\n"
   ]
  },
  {
   "cell_type": "code",
   "execution_count": 11,
   "metadata": {},
   "outputs": [
    {
     "name": "stdout",
     "output_type": "stream",
     "text": [
      "3628800\n"
     ]
    }
   ],
   "source": [
    "def multiply(numbers : list[int]) -> int:\n",
    "    '''This function takes a list of numbers as input and returns the product of the numbers\n",
    "    \n",
    "    '''\n",
    "    product = 1\n",
    "    for number in numbers:\n",
    "        product *= number\n",
    "    return product\n",
    "\n",
    "print(multiply([1, 2, 3, 4, 5, 6, 7, 8, 9, 10]))"
   ]
  },
  {
   "cell_type": "markdown",
   "metadata": {},
   "source": [
    "\n",
    "### Exercise 4: Reverse a Given String\n",
    "Write a function that takes a string as input and returns the string reversed.\n"
   ]
  },
  {
   "cell_type": "markdown",
   "metadata": {},
   "source": [
    "\n",
    "*Example Input*: `\"abcd1234\"`\n",
    "\n",
    "*Expected Output*: `\"4321dcba\"`\n",
    "\n"
   ]
  },
  {
   "cell_type": "code",
   "execution_count": 13,
   "metadata": {},
   "outputs": [
    {
     "name": "stdout",
     "output_type": "stream",
     "text": [
      "!dlroW ,olleH\n"
     ]
    }
   ],
   "source": [
    "# Your code here\n",
    "def reverse_string(string):\n",
    "    '''This function takes a string as input and returns the reverse of the string\n",
    "    \n",
    "    '''\n",
    "    return string[::-1]\n",
    "\n",
    "print(reverse_string(\"Hello, World!\"))"
   ]
  },
  {
   "cell_type": "markdown",
   "metadata": {},
   "source": [
    "\n",
    "### Exercise 5: Calculate Factorial\n",
    "Implement a function that computes the factorial of a non-negative integer passed as an argument.\n"
   ]
  },
  {
   "cell_type": "code",
   "execution_count": 17,
   "metadata": {},
   "outputs": [
    {
     "name": "stdout",
     "output_type": "stream",
     "text": [
      "120\n",
      "1\n",
      "Please enter a non-negative integer\n",
      "None\n"
     ]
    }
   ],
   "source": [
    "def factorial(n : int) -> int:\n",
    "    '''This function takes a non-negative integer as input and returns the factorial of the integer\n",
    "    \n",
    "    '''\n",
    "    if n >= 0:\n",
    "        mul = 1\n",
    "        for i in range(1, n + 1):\n",
    "            mul *= i\n",
    "        return mul\n",
    "    else:\n",
    "        print(\"Please enter a non-negative integer\")\n",
    "\n",
    "print(factorial(5))\n",
    "print(factorial(0))\n",
    "print(factorial(-5))"
   ]
  },
  {
   "cell_type": "markdown",
   "metadata": {},
   "source": [
    "\n",
    "### Exercise 6: Check Number Range\n",
    "Create a function that checks if a given number is within a specified range (inclusive).\n"
   ]
  },
  {
   "cell_type": "code",
   "execution_count": 23,
   "metadata": {},
   "outputs": [
    {
     "name": "stdout",
     "output_type": "stream",
     "text": [
      "True\n",
      "True\n",
      "False\n"
     ]
    }
   ],
   "source": [
    "# Your code here\n",
    "def is_inrange (number : float, lower : float, upper : float) -> bool:\n",
    "    '''This function takes three numbers as input and returns True if the first number is in the range of the second and third numbers, otherwise it returns False\n",
    "    \n",
    "    '''\n",
    "    if number >= lower and number <= upper:\n",
    "        return True\n",
    "    else:\n",
    "        return False\n",
    "    \n",
    "print(is_inrange(5, 1, 10))\n",
    "print(is_inrange(-5, -5, 12.0))\n",
    "print(is_inrange(5, 1, 4))"
   ]
  },
  {
   "cell_type": "markdown",
   "metadata": {},
   "source": [
    "\n",
    "### Exercise 7: Count Upper and Lower Case Letters\n",
    "Write a function that takes a string and counts the number of uppercase and lowercase letters.\n"
   ]
  },
  {
   "cell_type": "markdown",
   "metadata": {},
   "source": [
    "\n",
    "*Example Input*: `\"The Quick Brown Fox\"`\n",
    "\n",
    "\n",
    "*Expected Output*:\n",
    "\n",
    "Uppercase letters: 3\n",
    "\n",
    "Lowercase letters: 12\n",
    "\n"
   ]
  },
  {
   "cell_type": "code",
   "execution_count": 26,
   "metadata": {},
   "outputs": [
    {
     "name": "stdout",
     "output_type": "stream",
     "text": [
      "Uppercase letters: 2\n",
      "Lowercase letters: 8\n",
      "(2, 8)\n"
     ]
    }
   ],
   "source": [
    "def count_upper_lower(string : str) -> tuple:\n",
    "    '''This function takes a string as input and returns a tuple containing the count of uppercase and lowercase letters in the string\n",
    "    \n",
    "    '''\n",
    "    upper = 0\n",
    "    lower = 0\n",
    "    for char in string:\n",
    "        if char.isupper():\n",
    "            upper += 1\n",
    "        elif char.islower():\n",
    "            lower += 1\n",
    "    print(f\"Uppercase letters: {upper}\")\n",
    "    print(f\"Lowercase letters: {lower}\")\n",
    "    return (upper, lower)\n",
    "\n",
    "\n",
    "count = count_upper_lower(\"Hello, World!\")\n",
    "print(count)\n",
    "\n",
    "# Your code here"
   ]
  },
  {
   "cell_type": "markdown",
   "metadata": {},
   "source": [
    "\n",
    "### Exercise 8: Unique Elements from List\n",
    "Define a function that accepts a list and returns a new list containing only distinct elements.\n"
   ]
  },
  {
   "cell_type": "markdown",
   "metadata": {},
   "source": [
    "\n",
    "*Example Input*: `[1, 2, 3, 3, 4, 5]`\n",
    "\n",
    "*Expected Output*: `[1, 2, 3, 4, 5]`\n",
    "\n"
   ]
  },
  {
   "cell_type": "code",
   "execution_count": 29,
   "metadata": {},
   "outputs": [
    {
     "name": "stdout",
     "output_type": "stream",
     "text": [
      "[1, 2, 3, 4, 5]\n",
      "['f', 'd', 'a', 'g']\n"
     ]
    }
   ],
   "source": [
    "def unique(lst_un):\n",
    "    unique_list = []\n",
    "    unique_set = set()\n",
    "    [unique_set.add(i) for i in lst_un]\n",
    "    unique_list = [element for element in unique_set]\n",
    " \n",
    "    return unique_list    # Your code here\n",
    "\n",
    "print(unique([1, 2, 3, 3, 3, 3, 4, 5]))\n",
    "print(unique([\"a\", \"a\", \"d\", \"d\", \"f\", \"g\", \"g\", \"g\"]))"
   ]
  },
  {
   "cell_type": "markdown",
   "metadata": {},
   "source": [
    "\n",
    "### Exercise 9: Prime Number Checker\n",
    "Create a function that checks if the given number is prime or not.\n"
   ]
  },
  {
   "cell_type": "code",
   "execution_count": 37,
   "metadata": {},
   "outputs": [
    {
     "name": "stdout",
     "output_type": "stream",
     "text": [
      "False\n",
      "True\n"
     ]
    }
   ],
   "source": [
    "# Your code here\n",
    "def prime_checker (n: int) -> bool:\n",
    "    '''This function takes an integer as input and returns True if the integer is a prime number, otherwise it returns False\n",
    "    \n",
    "    '''\n",
    "    if n > 1:\n",
    "        for i in range(2, n):\n",
    "            if n % i == 0:\n",
    "                return False\n",
    "        return True\n",
    "    else:\n",
    "        return False \n",
    "    \n",
    "print(prime_checker(6))\n",
    "print(prime_checker(7))"
   ]
  },
  {
   "cell_type": "markdown",
   "metadata": {},
   "source": [
    "\n",
    "### Exercise 10: Extract Even Numbers from List\n",
    "Write a function that filters out even numbers from the provided list.\n"
   ]
  },
  {
   "cell_type": "markdown",
   "metadata": {},
   "source": [
    "\n",
    "*Example Input*: `[1, 2, 3, 4, 5, 6]`\n",
    "\n",
    "*Expected Output*: `[2, 4, 6]`\n",
    "\n"
   ]
  },
  {
   "cell_type": "code",
   "execution_count": 41,
   "metadata": {},
   "outputs": [
    {
     "data": {
      "text/plain": [
       "[2, 4, 6, 8, 10]"
      ]
     },
     "execution_count": 41,
     "metadata": {},
     "output_type": "execute_result"
    }
   ],
   "source": [
    "# Your code here\n",
    "def find_even(lst):\n",
    "    '''This function takes a list of numbers as input and returns a list of even numbers from the input list\n",
    "    \n",
    "    '''\n",
    "    even_list = []\n",
    "    for number in lst:\n",
    "        if number % 2 == 0:\n",
    "            even_list.append(number)\n",
    "    return even_list\n",
    "\n",
    "find_even([1, 2, 3, 4, 5, 6, 7, 8, 9, 10])"
   ]
  },
  {
   "cell_type": "markdown",
   "metadata": {},
   "source": [
    "\n",
    "### Exercise 11: Perfect Number Checker\n",
    "Implement a function to determine if a number is \"Perfect\". A perfect number is equal to the sum of its proper divisors (excluding itself).\n"
   ]
  },
  {
   "cell_type": "code",
   "execution_count": 45,
   "metadata": {},
   "outputs": [
    {
     "name": "stdout",
     "output_type": "stream",
     "text": [
      "True\n",
      "True\n",
      "False\n",
      "True\n",
      "False\n"
     ]
    }
   ],
   "source": [
    "# Your code here\n",
    "def perfect_number_checker(n: int) -> bool:\n",
    "    '''This function takes an integer as input and returns True if the integer is a perfect number, otherwise it returns False\n",
    "    \n",
    "    '''\n",
    "    sum = 0\n",
    "    for i in range(1, n//2 + 1):\n",
    "        if n % i == 0:\n",
    "            sum += i\n",
    "    if sum == n:\n",
    "        return True\n",
    "    else:\n",
    "        return False\n",
    "    \n",
    "print(perfect_number_checker(6))\n",
    "print(perfect_number_checker(28))\n",
    "print(perfect_number_checker(12))\n",
    "print(perfect_number_checker(496))\n",
    "print(perfect_number_checker(14))"
   ]
  },
  {
   "cell_type": "markdown",
   "metadata": {},
   "source": [
    "\n",
    "### Exercise 12: Palindrome Checker\n",
    "Write a function to check if the input string is a palindrome (reads the same forwards and backwards).\n"
   ]
  },
  {
   "cell_type": "code",
   "execution_count": 52,
   "metadata": {},
   "outputs": [
    {
     "name": "stdout",
     "output_type": "stream",
     "text": [
      "True\n",
      "False\n",
      "True\n",
      "True\n"
     ]
    }
   ],
   "source": [
    "# Your code here\n",
    "def palindrome_checker (string: str) -> bool:\n",
    "    '''This function takes a string as input and returns True if the string is a palindrome, otherwise it returns False\n",
    "    \n",
    "    '''\n",
    "    string = string.lower()\n",
    "    punctuation = \" .,:-!?()\"\n",
    "    for char in string:\n",
    "        if char in punctuation:\n",
    "            string = string.replace(char, \"\")\n",
    "    \n",
    "    if string == string[::-1]:\n",
    "        return True\n",
    "    else:\n",
    "        return False\n",
    "    \n",
    "print(palindrome_checker(\"madam\"))\n",
    "print(palindrome_checker(\"Hello, World!\"))\n",
    "print(palindrome_checker(\"Was it a car or a cat I saw\"))  \n",
    "print(palindrome_checker(\"Я не стар, брат Сеня\"))"
   ]
  },
  {
   "cell_type": "markdown",
   "metadata": {},
   "source": [
    "\n",
    "### Exercise 13: Generate Pascal's Triangle\n",
    "Create a function that prints the first `n` rows of Pascal's triangle.\n"
   ]
  },
  {
   "cell_type": "code",
   "execution_count": 83,
   "metadata": {},
   "outputs": [
    {
     "name": "stdout",
     "output_type": "stream",
     "text": [
      "97\n",
      "                                                 1                                                 \n",
      "                                                1 1                                                \n",
      "                                               1 2 1                                               \n",
      "                                              1 3 3 1                                              \n",
      "                                             1 4 6 4 1                                             \n",
      "                                           1 5 10 10 5 1                                           \n",
      "                                         1 6 15 20 15 6 1                                         \n",
      "                                        1 7 21 35 35 21 7 1                                        \n",
      "                                      1 8 28 56 70 56 28 8 1                                      \n",
      "                                    1 9 36 84 126 126 84 36 9 1                                    \n",
      "                                1 10 45 120 210 252 210 120 45 10 1                                \n",
      "                              1 11 55 165 330 462 462 330 165 55 11 1                              \n",
      "                            1 12 66 220 495 792 924 792 495 220 66 12 1                            \n",
      "                        1 13 78 286 715 1287 1716 1716 1287 715 286 78 13 1                        \n",
      "                    1 14 91 364 1001 2002 3003 3432 3003 2002 1001 364 91 14 1                    \n",
      "                 1 15 105 455 1365 3003 5005 6435 6435 5005 3003 1365 455 105 15 1                 \n",
      "             1 16 120 560 1820 4368 8008 11440 12870 11440 8008 4368 1820 560 120 16 1             \n",
      "         1 17 136 680 2380 6188 12376 19448 24310 24310 19448 12376 6188 2380 680 136 17 1         \n",
      "      1 18 153 816 3060 8568 18564 31824 43758 48620 43758 31824 18564 8568 3060 816 153 18 1      \n",
      "  1 19 171 969 3876 11628 27132 50388 75582 92378 92378 75582 50388 27132 11628 3876 969 171 19 1  \n"
     ]
    }
   ],
   "source": [
    "# Your code here\n",
    "def pascal_triangle(n: int) :\n",
    "    '''This function takes an integer as input and prints the Pascal's triangle with n rows\n",
    "    \n",
    "    '''\n",
    "    triangle = [[1],[1,1]]\n",
    "    for i in range(2, n):\n",
    "        prev_row = triangle[i - 1]\n",
    "        row = [1]\n",
    "        for j in range(1, i):\n",
    "            row.append(prev_row[j - 1] + prev_row[j])\n",
    "        row.append(1)\n",
    "   \n",
    "        triangle.append(row)\n",
    "   \n",
    "    last_row = \" \"\n",
    "    for i in triangle[-1]:\n",
    "        last_row += str(i) + \" \"\n",
    "    last_row_len = len(last_row)\n",
    "    print(last_row_len)\n",
    "\n",
    "    for row in triangle:\n",
    "       row_str = \" \"\n",
    "       for i in row:\n",
    "           row_str += str(i) + \" \"\n",
    "       print(' '*((last_row_len - len(row_str)) // 2), row_str, ' '*((last_row_len - len(row_str)) // 2))\n",
    "    \n",
    "pascal_triangle(20)"
   ]
  },
  {
   "cell_type": "markdown",
   "metadata": {},
   "source": [
    "\n",
    "### Exercise 14: Pangram Checker\n",
    "Define a function to check if the input string is a pangram (contains every letter of the alphabet at least once).\n"
   ]
  },
  {
   "cell_type": "markdown",
   "metadata": {},
   "source": [
    "\n",
    "*Example Input*: `\"The quick brown fox jumps over the lazy dog\"`\n",
    "\n",
    "*Expected Output*: `True`\n",
    "\n"
   ]
  },
  {
   "cell_type": "code",
   "execution_count": 85,
   "metadata": {},
   "outputs": [
    {
     "name": "stdout",
     "output_type": "stream",
     "text": [
      "True\n",
      "False\n",
      "False\n"
     ]
    }
   ],
   "source": [
    "# Your code here\n",
    "def pangram(string):\n",
    "    alphabet = \"abcdefghijklmnopqrstuvwxyz\"\n",
    "    for letter in alphabet:\n",
    "        if letter not in string.lower():\n",
    "            return False\n",
    "    return True\n",
    "#your code here\n",
    "\n",
    "\n",
    "print(pangram(\"The quick brown fox jumps over the lazy dog\"))\n",
    "print(pangram(\"The quick brown fox jumps over the dog\"))\n",
    "print(pangram(\"Hello, World!\"))"
   ]
  },
  {
   "cell_type": "markdown",
   "metadata": {},
   "source": [
    "\n",
    "### Exercise 15: Sort Hyphen-Separated Words\n",
    "Write a program that takes hyphen-separated words as input and prints them in alphabetical order.\n"
   ]
  },
  {
   "cell_type": "markdown",
   "metadata": {},
   "source": [
    "\n",
    "*Example Input*: `\"green-red-yellow-black-white\"`\n",
    "\n",
    "*Expected Output*: `\"black-green-red-white-yellow\"`\n",
    "\n"
   ]
  },
  {
   "cell_type": "code",
   "execution_count": 88,
   "metadata": {},
   "outputs": [
    {
     "name": "stdout",
     "output_type": "stream",
     "text": [
      "apple-banana-kiwi-orange\n",
      "black-green-red-white-yellow\n"
     ]
    }
   ],
   "source": [
    "# Your code here\n",
    "def sort_alpha(string):\n",
    "    \n",
    "    word_list = []\n",
    "    word = \"\" \n",
    "    string += \"-\"\n",
    "    \n",
    "    for c in string:\n",
    "        if c == \"-\":\n",
    "            word_list.append(word)\n",
    "            word = \"\"\n",
    "        else:\n",
    "            word += c\n",
    "    \n",
    "    word_list.sort()\n",
    "    \n",
    "    new_string = \"\"\n",
    "    for word in word_list:\n",
    "        new_string += word + \"-\"\n",
    "\n",
    "    return new_string[:-1]\n",
    "#your code here\n",
    "\n",
    "print(sort_alpha(\"banana-apple-kiwi-orange\"))\n",
    "print(sort_alpha(\"green-red-yellow-black-white\"))"
   ]
  },
  {
   "cell_type": "markdown",
   "metadata": {},
   "source": [
    "\n",
    "### Exercise 16: Generate Squares of Numbers\n",
    "Create a function that generates and prints squares of numbers from `1` to `30`.\n"
   ]
  },
  {
   "cell_type": "code",
   "execution_count": 92,
   "metadata": {},
   "outputs": [
    {
     "name": "stdout",
     "output_type": "stream",
     "text": [
      "[1, 4, 9, 16, 25, 36, 49, 64, 81, 100, 121, 144, 169, 196, 225, 256, 289, 324, 361, 400, 441, 484, 529, 576, 625, 676, 729, 784, 841, 900]\n"
     ]
    }
   ],
   "source": [
    "# Your code here\n",
    "def squares(n):\n",
    "    list_of_squares = [[i**2 for i in range(1, n + 1)]]\n",
    "    print(*list_of_squares)\n",
    "    return \n",
    "\n",
    "squares(30)\n"
   ]
  },
  {
   "cell_type": "markdown",
   "metadata": {},
   "source": [
    "\n",
    "### Exercise 17: Function Decorators\n",
    "Implement decorators to apply multiple formatting styles (bold, italic) to text output.\n"
   ]
  },
  {
   "cell_type": "code",
   "execution_count": 99,
   "metadata": {},
   "outputs": [
    {
     "name": "stdout",
     "output_type": "stream",
     "text": [
      "\u001b[1mHello, World!\u001b[0m\n",
      "\u001b[3mHello, World!\u001b[0m\n"
     ]
    }
   ],
   "source": [
    "# Your code here\n",
    "def deco_print(string, deco_type):\n",
    "    if deco_type == \"upper\":\n",
    "        print(string.upper())\n",
    "    elif deco_type == \"lower\":\n",
    "        print(string.lower())\n",
    "    elif deco_type == \"title\":\n",
    "        print(string.title())\n",
    "    elif deco_type == \"bold\":\n",
    "        print(f\"\\033[1m{string}\\033[0m\")\n",
    "    elif deco_type == \"italic\":\n",
    "        print(f\"\\033[3m{string}\\033[0m\")\n",
    "\n",
    "    else:\n",
    "        print(string)\n",
    "\n",
    "deco_print(\"Hello, World!\", \"bold\")\n",
    "deco_print(\"Hello, World!\", \"italic\")"
   ]
  },
  {
   "cell_type": "markdown",
   "metadata": {},
   "source": [
    "\n",
    "### Exercise 18: Execute Python Code from String\n",
    "Write a program that executes Python code contained in a string variable.\n"
   ]
  },
  {
   "cell_type": "code",
   "execution_count": 106,
   "metadata": {},
   "outputs": [
    {
     "name": "stdout",
     "output_type": "stream",
     "text": [
      "[1, 4, 9, 16, 25, 36, 49, 64, 81, 100, 121, 144, 169, 196, 225, 256, 289, 324, 361, 400, 441, 484, 529, 576, 625, 676, 729, 784, 841, 900]\n"
     ]
    }
   ],
   "source": [
    "# Your code here\n",
    "squares_30 = '''\n",
    "list_of_squares = [i**2 for i in range(1, 31)]\n",
    "print(list_of_squares)\n",
    "'''\n",
    "\n",
    "exec(squares_30)\n"
   ]
  },
  {
   "cell_type": "markdown",
   "metadata": {},
   "source": [
    "\n",
    "### Exercise 19: Nested Function Access\n",
    "Define two functions where one function calls another inside it.\n"
   ]
  },
  {
   "cell_type": "code",
   "execution_count": 112,
   "metadata": {},
   "outputs": [
    {
     "name": "stdout",
     "output_type": "stream",
     "text": [
      "This is the main function\n",
      "Calling a sub-function: \n",
      "This is a sub-function\n"
     ]
    }
   ],
   "source": [
    "# Your code here\n",
    "def sub_function():\n",
    "    print(\"This is a sub-function\")\n",
    "\n",
    "def main_function():\n",
    "    print(\"This is the main function\")\n",
    "    print(\"Calling a sub-function: \")\n",
    "    sub_function()\n",
    "\n",
    "main_function()"
   ]
  },
  {
   "cell_type": "markdown",
   "metadata": {},
   "source": [
    "\n",
    "### Exercise 20: Count Local Variables\n",
    "Create a function that counts how many local variables are declared within it.\n"
   ]
  },
  {
   "cell_type": "markdown",
   "metadata": {},
   "source": [
    "\n",
    "*Example Output*: `3`\n",
    "\n"
   ]
  },
  {
   "cell_type": "code",
   "execution_count": 111,
   "metadata": {},
   "outputs": [
    {
     "name": "stdout",
     "output_type": "stream",
     "text": [
      "Number of local variables: 5\n"
     ]
    }
   ],
   "source": [
    "# Your code here\n",
    "def example_function(x, y):\n",
    "    a = 10.5\n",
    "    b = True\n",
    "    c = \"Str\"\n",
    "    return len(locals())\n",
    "\n",
    "num_local_vars = example_function(1, 7)\n",
    "print(f\"Number of local variables: {num_local_vars}\")"
   ]
  },
  {
   "cell_type": "markdown",
   "metadata": {},
   "source": [
    "\n",
    "Happy coding!"
   ]
  }
 ],
 "metadata": {
  "kernelspec": {
   "display_name": "Python 3",
   "language": "python",
   "name": "python3"
  },
  "language_info": {
   "codemirror_mode": {
    "name": "ipython",
    "version": 3
   },
   "file_extension": ".py",
   "mimetype": "text/x-python",
   "name": "python",
   "nbconvert_exporter": "python",
   "pygments_lexer": "ipython3",
   "version": "3.13.1"
  }
 },
 "nbformat": 4,
 "nbformat_minor": 2
}
